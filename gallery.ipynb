{
 "cells": [
  {
   "cell_type": "markdown",
   "metadata": {},
   "source": [
    "# Glacier Gallery"
   ]
  },
  {
   "cell_type": "markdown",
   "metadata": {},
   "source": [
    "## Import packages"
   ]
  },
  {
   "cell_type": "code",
   "execution_count": null,
   "metadata": {},
   "outputs": [],
   "source": [
    "import panel as pn\n",
    "import os, numpy as np, pandas as pd, cartopy.crs as ccrs, bokeh\n",
    "import holoviews as hv, geoviews as gv, datashader as ds\n",
    "from bokeh.models import ColumnDataSource, OpenURL, TapTool, HoverTool, Plot, Range1d, Text, TapTool, CustomJS, Legend, LegendItem, RadioGroup\n",
    "from bokeh.plotting import figure, show, output_notebook\n",
    "from bokeh.tile_providers import get_provider, Vendors\n",
    "from bokeh.io import output_file, show, output_notebook, reset_output\n",
    "from bokeh.models.markers import Circle\n",
    "hv.extension('bokeh', width=100)\n",
    "pn.extension()"
   ]
  },
  {
   "cell_type": "markdown",
   "metadata": {},
   "source": [
    "## Choose language for html document!"
   ]
  },
  {
   "cell_type": "code",
   "execution_count": null,
   "metadata": {},
   "outputs": [],
   "source": [
    "language = 'en'\n",
    "file_name = 'gallery_en'\n",
    "#language = 'de'\n",
    "#file_name = 'gallery_de'"
   ]
  },
  {
   "cell_type": "markdown",
   "metadata": {},
   "source": [
    "### Import text in different languages and selection of glacier with meta data"
   ]
  },
  {
   "cell_type": "code",
   "execution_count": null,
   "metadata": {},
   "outputs": [],
   "source": [
    "# import all texts in the corresponding language from here:\n",
    "from international import trads, supported_languages, links\n",
    "from Glaciers import glaciers"
   ]
  },
  {
   "cell_type": "markdown",
   "metadata": {},
   "source": [
    "### Function to prepare coordinates"
   ]
  },
  {
   "cell_type": "code",
   "execution_count": null,
   "metadata": {},
   "outputs": [],
   "source": [
    "import math\n",
    "from ast import literal_eval\n",
    "\n",
    "def merc(Coords):\n",
    "    lat = Coords[0]\n",
    "    lon = Coords[1]\n",
    "\n",
    "    r_major = 6378137.000\n",
    "    x = r_major * math.radians(lon)\n",
    "    scale = x/lon\n",
    "    y = 180.0/math.pi * math.log(math.tan(math.pi/4.0 + \n",
    "        lat * (math.pi/180.0)/2.0)) * scale    \n",
    "    return (x, y)"
   ]
  },
  {
   "cell_type": "markdown",
   "metadata": {},
   "source": [
    "## Load data"
   ]
  },
  {
   "cell_type": "code",
   "execution_count": null,
   "metadata": {
    "scrolled": true
   },
   "outputs": [],
   "source": [
    "df_all_all = pd.read_hdf('./data/rgi62_era5_itmix_df.h5', 'df')\n",
    "df_all_all['rgi_id']= list(df_all_all.axes[0])\n",
    "df_all = df_all_all[['rgi_id', 'CenLon', 'CenLat', 'Lmax', 'GlacierType','TerminusType', 'GlacierStatus', 'IsTidewater', 'IsNominal' ]].copy()"
   ]
  },
  {
   "cell_type": "markdown",
   "metadata": {},
   "source": [
    "## Select glaciers, add photos and build lists with information about them"
   ]
  },
  {
   "cell_type": "code",
   "execution_count": null,
   "metadata": {
    "scrolled": false
   },
   "outputs": [],
   "source": [
    "Glacier_No = glaciers # imported glaciers and meta data from Glaciers.py\n",
    "\n",
    "# Create lists from glacier list above\n",
    "glacier_list = []\n",
    "glacier_names = []\n",
    "gltype = []\n",
    "glacier_pics =[]\n",
    "glpic_pretext_source = []\n",
    "glpic_cite = []\n",
    "glpic_lic = []\n",
    "glpic_wi = []\n",
    "glpic_he = []\n",
    "glpic_src = []\n",
    "for gl_no in Glacier_No:\n",
    "    glacier_list.append(gl_no[0])\n",
    "    glacier_names.append(gl_no[1])\n",
    "    gltype.append(gl_no[2])\n",
    "    glacier_pics.append(gl_no[3])\n",
    "    glpic_pretext_source.append(gl_no[4])\n",
    "    glpic_cite.append(gl_no[5])\n",
    "    glpic_lic.append (gl_no[6])\n",
    "    glpic_wi.append(gl_no[8])\n",
    "    glpic_he.append(gl_no[9])\n",
    "    glpic_src.append(gl_no[10])\n",
    "\n",
    "# create a new dataframe with the selected glaciers from the loaded data about glaciers \n",
    "df = df_all.loc[df_all['rgi_id'].isin(glacier_list)].copy()\n",
    "df['name'] = glacier_names\n",
    "df['Coords'] = list(zip(round(df.CenLat,2), round(df.CenLon,2)))\n",
    "df['type'] = gltype\n",
    "df['img'] = glacier_pics\n",
    "df['pic_pretext'] = glpic_pretext_source\n",
    "df['glpic_lic'] = glpic_lic\n",
    "df['pic_cite'] = glpic_cite\n",
    "df['pic_width'] = glpic_wi\n",
    "df['pic_height'] = glpic_he\n",
    "df['pic_src'] = glpic_src"
   ]
  },
  {
   "cell_type": "markdown",
   "metadata": {},
   "source": [
    "## Define texts in according language"
   ]
  },
  {
   "cell_type": "code",
   "execution_count": null,
   "metadata": {
    "scrolled": true
   },
   "outputs": [],
   "source": [
    "title                 = trads['Title_hp'][language]\n",
    "instruction           = trads['instruction'][language]\n",
    "link_to_license_intro = trads['link_to_license_intro'][language]\n",
    "links_pic_src_intro   = trads['links_pic_src_intro'][language]\n",
    "\n",
    "# tab titles\n",
    "tab_title1 = trads['tab_title_1'][language]\n",
    "tab_title2 = trads['tab_title_2'][language]\n",
    "\n",
    "links_to_license = links['links_license'] \n",
    "links_pic_src    = links['links_pics']\n",
    "\n",
    "df['Def'] = trads['Glacier_definition'][language]\n",
    "df['Title'] = trads['Glacier_title'][language]\n",
    "df['text_source'] = trads['Glacier_text_source'][language]\n",
    "\n",
    "# translate \"terminating\" entry:\n",
    "df.loc[df['TerminusType'] == 'Land-terminating', 'TerminusType']   = trads['TerminusType_land'][language]\n",
    "df.loc[df['TerminusType'] == 'Marine-terminating', 'TerminusType'] = trads['TerminusType_marine'][language]\n",
    "\n",
    "# define colors for dots of different glacier types\n",
    "df.loc[df['type'] == 'Pure ice glacier', 'color']       = '#85a9c1'\n",
    "df.loc[df['type'] == 'Calving glacier', 'color']        = '#FD90A7'\n",
    "df.loc[df['type'] == 'Debris covered glacier', 'color'] = '#9FBC40'\n",
    "df.loc[df['type'] == 'Ice cap', 'color']                = '#FFFED9'"
   ]
  },
  {
   "cell_type": "markdown",
   "metadata": {},
   "source": [
    "### Add texts about glacier types to the dataframe"
   ]
  },
  {
   "cell_type": "code",
   "execution_count": null,
   "metadata": {
    "scrolled": false
   },
   "outputs": [],
   "source": [
    "df.loc[df['type'] == 'Pure ice glacier',       'glaciertype_text'] = trads['pure_ice_text'][language]\n",
    "df.loc[df['type'] == 'Calving glacier',        'glaciertype_text'] = trads['calving_text'][language]\n",
    "df.loc[df['type'] == 'Debris covered glacier', 'glaciertype_text'] = trads['debris_text'][language]\n",
    "df.loc[df['type'] == 'Ice cap',                'glaciertype_text'] = trads['ice_cap_text'][language]\n",
    "df.loc[df['type'] == 'Pure ice glacier',       'glaciertype_source'] = trads['pure_ice_source'][language]\n",
    "df.loc[df['type'] == 'Calving glacier',        'glaciertype_source'] = trads['calving_glacier_source'][language]\n",
    "df.loc[df['type'] == 'Debris covered glacier', 'glaciertype_source'] = trads['debris_glacier_source'][language]\n",
    "df.loc[df['type'] == 'Ice cap',                'glaciertype_source'] = trads['ice_cap_source'][language]\n",
    "\n",
    "# translate \"type\" entry:\n",
    "df.loc[df['type'] == 'Pure ice glacier', 'type']       = trads['type_pure_ice'][language]\n",
    "df.loc[df['type'] == 'Calving glacier', 'type']        = trads['type_calving'][language]\n",
    "df.loc[df['type'] == 'Debris covered glacier', 'type'] = trads['type_debris_covered'][language]\n",
    "df.loc[df['type'] == 'Ice cap', 'type']                = trads['type_ice_cap'][language]\n",
    "\n",
    "# 3 empty columns for changing text box\n",
    "df['empty1'] = ''\n",
    "df['empty2'] = ''\n",
    "df['empty3'] = ''"
   ]
  },
  {
   "cell_type": "markdown",
   "metadata": {},
   "source": [
    "## Build special datastructure with all information"
   ]
  },
  {
   "cell_type": "code",
   "execution_count": null,
   "metadata": {},
   "outputs": [],
   "source": [
    "# prepare coordinates  \n",
    "df.loc[:, 'coords_x'] = df['Coords'].apply(lambda x: merc(x)[0])\n",
    "df.loc[:, 'coords_y'] = df['Coords'].apply(lambda x: merc(x)[1])\n",
    "\n",
    "# build source\n",
    "source = ColumnDataSource(df)"
   ]
  },
  {
   "cell_type": "markdown",
   "metadata": {},
   "source": [
    "## Design for map with hover and webpage"
   ]
  },
  {
   "cell_type": "code",
   "execution_count": null,
   "metadata": {
    "scrolled": true
   },
   "outputs": [],
   "source": [
    "# Hover\n",
    "TOOLTIPS = \"\"\"\n",
    "    <div>\n",
    "        <div>\n",
    "            <img\n",
    "                src=\"@img\" \n",
    "                height=\"@pic_height\" \n",
    "                alt=\"image loading...\" \n",
    "                width=\"@pic_width\"\n",
    "                style=\" margin: 2px 2px 0px 2px;\"\n",
    "                border=\"2\">\n",
    "            </img>\n",
    "        </div>\n",
    "        <div>\n",
    "            <span style=\"font-size: 17px; font-weight: bold;\">@name                </span> <br>\n",
    "            <span style=\"font-size: 15px;                   \">@type                </span> <br>\n",
    "            <span style=\"font-size: 15px;                   \">Length:              </span>\n",
    "            <span style=\"font-size: 15px;                   \">@Lmax                </span>\n",
    "            <span style=\"font-size: 15px;                   \">m                    </span> <br>\n",
    "            <span style=\"font-size: 15px;                   \">@TerminusType        </span> <br>\n",
    "            <span style=\"font-size: 15px;                   \">Location             </span>\n",
    "            <span style=\"font-size: 13px; color: #696;      \">(@CenLat, @CenLon)   </span> <br>\n",
    "            <span style=\"font-size: 9px;                    \">@pic_pretext @pic_cite @glpic_lic </span>\n",
    "        </div>\n",
    "    </div>\n",
    "\"\"\"\n",
    "hover = HoverTool()\n",
    "hover.tooltips = TOOLTIPS\n",
    "\n",
    "############################################################################\n",
    "# Create figure for the map\n",
    "p = figure(x_axis_type=\"mercator\", \n",
    "           y_axis_type=\"mercator\",\n",
    "           plot_width = 1000,\n",
    "           plot_height = 650,\n",
    "           background='black',\n",
    "           tools=['tap', 'wheel_zoom', 'reset', 'pan'])\n",
    "\n",
    "############################################################################\n",
    "# Design figure\n",
    "p.xaxis.visible = False\n",
    "p.yaxis.visible = False\n",
    "p.xgrid.visible = False\n",
    "p.ygrid.visible = False\n",
    "p.xgrid.grid_line_color = None\n",
    "\n",
    "############################################################################\n",
    "# add map\n",
    "tile_provider = get_provider(Vendors.CARTODBPOSITRON)\n",
    "p.add_tile(tile_provider)\n",
    "# add glacier dots\n",
    "p.circle(x='coords_x',\n",
    "         y='coords_y', \n",
    "         source=source,\n",
    "         size=10,\n",
    "         color='color',\n",
    "         line_color=\"black\", \n",
    "         fill_alpha=0.9,\n",
    "         legend='type'\n",
    "        )\n",
    "# add markers around the dots when mouse is directly over glacier dots (belongs to hover)\n",
    "cr = p.circle(x='coords_x', y='coords_y', source=source, size=20,\n",
    "                fill_color=\"white\", hover_fill_color=\"blue\",\n",
    "                fill_alpha=0.0, hover_alpha=0.3,\n",
    "                line_color=None, hover_line_color=\"white\")\n",
    "# add hover\n",
    "hover = HoverTool(tooltips=TOOLTIPS, renderers=[cr])\n",
    "p.add_tools(hover)\n",
    "\n",
    "############################################################################\n",
    "# build text boxes \n",
    "\n",
    "# glacier type text box\n",
    "def construct_changing_text_box(source): \n",
    "    # Plot and axes                                                             \n",
    "    xdr = Range1d(0, 1220)                                                       \n",
    "    ydr = Range1d(0, 1120)                                                       \n",
    "\n",
    "    plot = Plot(                                        \n",
    "        x_range=xdr, y_range=ydr,                                   \n",
    "        plot_height=650, min_border=0, \n",
    "        plot_width=380\n",
    "        )                                                                           \n",
    "    # Add the writing \n",
    "    title = Text(x=10, y=1055, text='empty1', text_color=\"#85a9c1\", text_alpha=0.2, text_font='helvetica', text_font_size='14pt')\n",
    "    text  = Text(x=0,  y=250,  text='empty2', text_color=\"#326a86\", text_alpha=0.2, text_font='helvetica', text_font_size='10pt')\n",
    "    sourc = Text(x=10, y=0,    text='empty3', text_color=\"#85a9c1\", text_alpha=0.2, text_font='helvetica', text_font_size='7pt')\n",
    "    \n",
    "    plot.add_glyph(source, text)\n",
    "    plot.add_glyph(source, title)    \n",
    "    plot.add_glyph(source, sourc)      \n",
    "    return plot\n",
    "\n",
    "# Glacier definition text box\n",
    "def construct_text_box(source): \n",
    "    # Plot and axes                                                             \n",
    "    xdr = Range1d(0, 1220)                                                       \n",
    "    ydr = Range1d(0, 1120)                                                       \n",
    "\n",
    "    plot = Plot(                                        \n",
    "        x_range=xdr, y_range=ydr,                                   \n",
    "        plot_height=650, min_border=0, \n",
    "        plot_width=380\n",
    "        )                                                                           \n",
    "    # Add the writing \n",
    "    title1 = Text(x=10, y=1055, text='Title',       text_color=\"#85a9c1\", text_alpha=0.2, text_font='helvetica', text_font_size='14pt')\n",
    "    text1  = Text(x=0,  y=250,  text='Def',         text_color=\"#326a86\", text_alpha=0.2, text_font='helvetica', text_font_size='10pt')\n",
    "    cite1  = Text(x=10, y=0,    text='text_source', text_color=\"#85a9c1\", text_alpha=0.2, text_font='helvetica', text_font_size='7pt')\n",
    "\n",
    "    plot.add_glyph(source, title1)\n",
    "    plot.add_glyph(source, text1)\n",
    "    plot.add_glyph(source, cite1)\n",
    "    return plot\n",
    "\n",
    "\n",
    "JS_CODE =\"\"\"\n",
    "    // Get index of current selected datapoint\n",
    "    sel_point_index = cb_data.source.attributes.selected[\"1d\"][\"indices\"][0];     \n",
    "\n",
    "    /* replace all name_display values with the name_label\n",
    "       value of currently selected point */\n",
    "       \n",
    "    for (i=0; i < cb_data.source.data.type.length; i++) {\n",
    "        cb_data.source.data.empty1[i] = cb_data.source.data.type[sel_point_index];\n",
    "        }       \n",
    "    cb_data.source.change.emit();\n",
    "    \n",
    "    for (i=0; i < cb_data.source.data.type.length; i++) {\n",
    "        cb_data.source.data.empty2[i] = cb_data.source.data.glaciertype_text[sel_point_index];\n",
    "        }      \n",
    "     cb_data.source.change.emit();\n",
    "\n",
    "    for (i=0; i < cb_data.source.data.type.length; i++) {\n",
    "        cb_data.source.data.empty3[i] = cb_data.source.data.glaciertype_source[sel_point_index];\n",
    "        }      \n",
    "     cb_data.source.change.emit();\n",
    "    \"\"\"\n",
    "\n",
    "newtaptool = p.select(type=TapTool)\n",
    "newtaptool.callback = CustomJS(code=JS_CODE)\n",
    "changing_text_box = construct_changing_text_box(source)\n",
    "text_box = construct_text_box(source)\n",
    "\n",
    "# make 2 tabs (one for each box)\n",
    "from bokeh.models.widgets import Panel, Tabs\n",
    "tab1 = Panel(child=changing_text_box, title=tab_title1)\n",
    "tab2 = Panel(child=text_box, title=tab_title2)\n",
    "tabs = Tabs(tabs=[ tab1, tab2 ])"
   ]
  },
  {
   "cell_type": "markdown",
   "metadata": {},
   "source": [
    "#### Logos"
   ]
  },
  {
   "cell_type": "code",
   "execution_count": null,
   "metadata": {},
   "outputs": [],
   "source": [
    "oggm_logo   = '<a href=\"http://edu.oggm.org\"><img src=\"https://raw.githubusercontent.com/zschirmeister/glacier-gallery/master/oggm_loupe.png\" width=220></a>'\n",
    "pn_logo     = '<a href=\"https://panel.pyviz.org\"><img src=\"http://panel.pyviz.org/_static/logo_stacked.png\" width=60></a>'\n",
    "fk_logo     = '<a href=\"https://www.uibk.ac.at/foerderkreis1669/\"><img src=\"https://raw.githubusercontent.com/zschirmeister/glacier-gallery/master/uibk_logo_narrow.png\" width=140></a>'"
   ]
  },
  {
   "cell_type": "markdown",
   "metadata": {},
   "source": [
    "## Design application"
   ]
  },
  {
   "cell_type": "code",
   "execution_count": null,
   "metadata": {},
   "outputs": [],
   "source": [
    "# Panel\n",
    "header = pn.Row(pn.Pane(oggm_logo),  pn.layout.Spacer(width=30), \n",
    "                pn.Column(pn.Row(pn.Spacer(width=130), pn.Pane(title, width=400)), pn.Row(pn.Spacer(width=80), pn.Pane(instruction, width=1200))),\n",
    "                pn.layout.HSpacer()\n",
    "                )\n",
    "logos = pn.Column(pn.Spacer(height=30), pn.Pane(pn_logo, width=100), pn.Spacer(height=40), pn.Pane(fk_logo))\n",
    "links = pn.Column(link_to_license_intro, links_to_license, links_pic_src_intro, links_pic_src)\n",
    "\n",
    "# Put plot and text together and show it\n",
    "app = pn.Column(header, pn.Row(logos, pn.Column(pn.Spacer(height=22), p), pn.Spacer(width=2), tabs), pn.Spacer(height=60), links, width_policy='max', height_policy='max')\n",
    "#app.show()"
   ]
  },
  {
   "cell_type": "code",
   "execution_count": null,
   "metadata": {},
   "outputs": [],
   "source": [
    "# put transform app to one model:\n",
    "app_to_save = app.get_root()\n",
    "\n",
    "from bokeh.resources import CDN\n",
    "from bokeh.embed import file_html\n",
    "# save model in html\n",
    "bokeh.io.save(app_to_save, file_name, CDN)"
   ]
  },
  {
   "cell_type": "code",
   "execution_count": null,
   "metadata": {},
   "outputs": [],
   "source": []
  }
 ],
 "metadata": {
  "kernelspec": {
   "display_name": "Python 3",
   "language": "python",
   "name": "python3"
  },
  "language_info": {
   "codemirror_mode": {
    "name": "ipython",
    "version": 3
   },
   "file_extension": ".py",
   "mimetype": "text/x-python",
   "name": "python",
   "nbconvert_exporter": "python",
   "pygments_lexer": "ipython3",
   "version": "3.6.10"
  }
 },
 "nbformat": 4,
 "nbformat_minor": 4
}
