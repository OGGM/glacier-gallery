{
 "cells": [
  {
   "cell_type": "markdown",
   "metadata": {},
   "source": [
    "# Glacier Gallery"
   ]
  },
  {
   "cell_type": "markdown",
   "metadata": {},
   "source": [
    "## Import packages"
   ]
  },
  {
   "cell_type": "code",
   "execution_count": null,
   "metadata": {},
   "outputs": [],
   "source": [
    "import panel as pn\n",
    "import pandas as pd\n",
    "import holoviews as hv\n",
    "import geoviews as gv\n",
    "from holoviews.plotting.links import Link\n",
    "from holoviews.plotting.bokeh import LinkCallback\n",
    "import geoviews.tile_sources as gts\n",
    "from bokeh.models import HoverTool\n",
    "\n",
    "hv.extension('bokeh', width=100)\n",
    "pn.extension()\n",
    "gv.extension('bokeh')"
   ]
  },
  {
   "cell_type": "markdown",
   "metadata": {},
   "source": [
    "## Choose language for html document!"
   ]
  },
  {
   "cell_type": "code",
   "execution_count": null,
   "metadata": {},
   "outputs": [],
   "source": [
    "language = 'en'  # 'en' or 'de'\n",
    "file_name = f'gallery-app_{language}.html'"
   ]
  },
  {
   "cell_type": "markdown",
   "metadata": {},
   "source": [
    "### Import text in different languages and selection of glacier with meta data"
   ]
  },
  {
   "cell_type": "code",
   "execution_count": null,
   "metadata": {},
   "outputs": [],
   "source": [
    "# import all texts in the corresponding language from here:\n",
    "from international import trads, supported_languages\n",
    "from glacier_data import glaciers, links"
   ]
  },
  {
   "cell_type": "markdown",
   "metadata": {},
   "source": [
    "### Function to prepare coordinates"
   ]
  },
  {
   "cell_type": "code",
   "execution_count": null,
   "metadata": {},
   "outputs": [],
   "source": [
    "import math\n",
    "from ast import literal_eval\n",
    "\n",
    "def merc(Coords):\n",
    "    lat = Coords[0]\n",
    "    lon = Coords[1]\n",
    "\n",
    "    r_major = 6378137.000\n",
    "    x = r_major * math.radians(lon)\n",
    "    scale = x/lon\n",
    "    y = 180.0/math.pi * math.log(math.tan(math.pi/4.0 + \n",
    "        lat * (math.pi/180.0)/2.0)) * scale    \n",
    "    return (x, y)"
   ]
  },
  {
   "cell_type": "markdown",
   "metadata": {},
   "source": [
    "## Load data"
   ]
  },
  {
   "cell_type": "code",
   "execution_count": null,
   "metadata": {
    "scrolled": true
   },
   "outputs": [],
   "source": [
    "df_all = pd.read_hdf('./data/rgi62_era5_itmix_df.h5', 'df')\n",
    "df_all['rgi_id']= list(df_all.axes[0])\n",
    "df_sel = df_all[['rgi_id', 'CenLon', 'CenLat', 'Lmax', 'GlacierType',\n",
    "                 'TerminusType', 'GlacierStatus', 'IsTidewater',\n",
    "                 'IsNominal' ]].copy()"
   ]
  },
  {
   "cell_type": "markdown",
   "metadata": {},
   "source": [
    "## Select glaciers, add photos and build lists with information about them"
   ]
  },
  {
   "cell_type": "code",
   "execution_count": null,
   "metadata": {
    "scrolled": false
   },
   "outputs": [],
   "source": [
    "Glacier_No = glaciers # imported glaciers and meta data from Glaciers.py\n",
    "\n",
    "# Create lists from glacier list above\n",
    "glacier_list = []\n",
    "glacier_names = []\n",
    "gltype = []\n",
    "glacier_pics =[]\n",
    "glpic_pretext_source = []\n",
    "glpic_cite = []\n",
    "glpic_lic = []\n",
    "glpic_wi = []\n",
    "glpic_he = []\n",
    "glpic_src = []\n",
    "for gl_no in Glacier_No:\n",
    "    glacier_list.append(gl_no[0])\n",
    "    glacier_names.append(gl_no[1])\n",
    "    gltype.append(gl_no[2])\n",
    "    glacier_pics.append(gl_no[3])\n",
    "    glpic_pretext_source.append(gl_no[4])\n",
    "    glpic_cite.append(gl_no[5])\n",
    "    glpic_lic.append (gl_no[6])\n",
    "    glpic_wi.append(gl_no[8])\n",
    "    glpic_he.append(gl_no[9])\n",
    "    glpic_src.append(gl_no[10])\n",
    "\n",
    "# create a new dataframe with the selected glaciers from the loaded data about glaciers \n",
    "df = df_sel.loc[df_sel['rgi_id'].isin(glacier_list)].copy()\n",
    "df['name'] = glacier_names\n",
    "df['Coords'] = list(zip(round(df.CenLat,2), round(df.CenLon,2)))\n",
    "df['type'] = gltype\n",
    "df['img'] = glacier_pics\n",
    "df['pic_pretext'] = glpic_pretext_source\n",
    "df['glpic_lic'] = glpic_lic\n",
    "df['pic_cite'] = glpic_cite\n",
    "df['pic_width'] = glpic_wi\n",
    "df['pic_height'] = glpic_he\n",
    "df['pic_src'] = glpic_src"
   ]
  },
  {
   "cell_type": "markdown",
   "metadata": {},
   "source": [
    "## Define texts in according language"
   ]
  },
  {
   "cell_type": "code",
   "execution_count": null,
   "metadata": {
    "scrolled": true
   },
   "outputs": [],
   "source": [
    "title                 = '<div style=\"font-size:38px; color: #326a86; font-weight: bold\" >{}</div>'.format(trads['Title_hp'][language])\n",
    "instruction           = '<div style=\"font-size:15px; color: #326a86\" >{}</div>'.format(trads['instruction'][language])\n",
    "link_to_license_intro = '<div>{}</div>'.format(trads['link_to_license_intro'][language])\n",
    "links_pic_src_intro   = '<div>{}</div>'.format(trads['links_pic_src_intro'][language])\n",
    "\n",
    "# tab titles\n",
    "tab_title1 = trads['tab_title_1'][language]\n",
    "tab_title2 = trads['tab_title_2'][language]\n",
    "\n",
    "links_to_license = links['links_license']\n",
    "links_pic_src    = links['links_pics']\n",
    "\n",
    "df['Def'] = trads['Glacier_definition'][language]\n",
    "df['Title'] = trads['Glacier_title'][language]\n",
    "df['text_source'] = trads['Glacier_text_source'][language]\n",
    "\n",
    "df['no_glacier_selected'] = trads['no_glacier_selected'][language]\n",
    "\n",
    "# translate \"terminating\" entry:\n",
    "df.loc[df['TerminusType'] == 'Land-terminating', 'TerminusType']   = trads['TerminusType_land'][language]\n",
    "df.loc[df['TerminusType'] == 'Marine-terminating', 'TerminusType'] = trads['TerminusType_marine'][language]\n",
    "\n",
    "# define colors for dots of different glacier types\n",
    "glacier_type_colors = {trads['type_pure_ice'][language]: '#56B4E9',\n",
    "                       trads['type_calving'][language]: '#F0E442',\n",
    "                       trads['type_debris_covered'][language]: '#009E73',\n",
    "                       trads['type_ice_cap'][language]: '#D55E00'}"
   ]
  },
  {
   "cell_type": "markdown",
   "metadata": {},
   "source": [
    "### Add texts about glacier types to the dataframe"
   ]
  },
  {
   "cell_type": "code",
   "execution_count": null,
   "metadata": {
    "scrolled": false
   },
   "outputs": [],
   "source": [
    "df.loc[df['type'] == 'Pure ice glacier',       'glaciertype_text'] = trads['pure_ice_text'][language]\n",
    "df.loc[df['type'] == 'Calving glacier',        'glaciertype_text'] = trads['calving_text'][language]\n",
    "df.loc[df['type'] == 'Debris covered glacier', 'glaciertype_text'] = trads['debris_text'][language]\n",
    "df.loc[df['type'] == 'Ice cap',                'glaciertype_text'] = trads['ice_cap_text'][language]\n",
    "df.loc[df['type'] == 'Pure ice glacier',       'glaciertype_source'] = trads['pure_ice_source'][language]\n",
    "df.loc[df['type'] == 'Calving glacier',        'glaciertype_source'] = trads['calving_glacier_source'][language]\n",
    "df.loc[df['type'] == 'Debris covered glacier', 'glaciertype_source'] = trads['debris_glacier_source'][language]\n",
    "df.loc[df['type'] == 'Ice cap',                'glaciertype_source'] = trads['ice_cap_source'][language]\n",
    "\n",
    "# translate \"type\" entry:\n",
    "df.loc[df['type'] == 'Pure ice glacier', 'type']       = trads['type_pure_ice'][language]\n",
    "df.loc[df['type'] == 'Calving glacier', 'type']        = trads['type_calving'][language]\n",
    "df.loc[df['type'] == 'Debris covered glacier', 'type'] = trads['type_debris_covered'][language]\n",
    "df.loc[df['type'] == 'Ice cap', 'type']                = trads['type_ice_cap'][language]\n",
    "\n",
    "# translate \"pic_pretext\":\n",
    "df.loc[df['pic_pretext'] == 'Photo courtesy', 'pic_pretext'] = trads['pic_pretext'][language]"
   ]
  },
  {
   "cell_type": "markdown",
   "metadata": {},
   "source": [
    "## Build special datastructure with all information"
   ]
  },
  {
   "cell_type": "code",
   "execution_count": null,
   "metadata": {},
   "outputs": [],
   "source": [
    "# prepare coordinates  \n",
    "df.loc[:, 'coords_x'] = df['Coords'].apply(lambda x: merc(x)[0])\n",
    "df.loc[:, 'coords_y'] = df['Coords'].apply(lambda x: merc(x)[1])\n",
    "\n",
    "df.loc[:, 'LonDeg'] = df['CenLon']\n",
    "df.loc[:, 'LatDeg'] = df['CenLat']"
   ]
  },
  {
   "cell_type": "markdown",
   "metadata": {},
   "source": [
    "## Design for map with hover and webpage"
   ]
  },
  {
   "cell_type": "code",
   "execution_count": null,
   "metadata": {},
   "outputs": [],
   "source": [
    "# background map\n",
    "background_map = gts.tile_sources['CartoLight']\n",
    "\n",
    "# define hover with image and values to display\n",
    "TOOLTIPS =  \"\"\"\n",
    "    <div>\n",
    "        <div>\n",
    "            <img\n",
    "                src=\"@img\" \n",
    "                height=\"@pic_height\" \n",
    "                alt=\"image loading...\" \n",
    "                width=\"@pic_width\"\n",
    "                style=\" margin: 2px 2px 0px 2px;\"\n",
    "                border=\"2\">\n",
    "            </img>\n",
    "        </div>\n",
    "        <div>\n",
    "                <span style=\"font-size: 17px; font-weight: bold;\">@name                </span> <br>\n",
    "                <span style=\"font-size: 15px;                   \">@type                </span> <br>\n",
    "                <span style=\"font-size: 15px;                   \">{}:              </span>\n",
    "                <span style=\"font-size: 15px;                   \">@Lmax                </span>\n",
    "                <span style=\"font-size: 15px;                   \">m                    </span> <br>\n",
    "                <span style=\"font-size: 15px;                   \">@TerminusType        </span> <br>\n",
    "                <span style=\"font-size: 15px;                   \">{}:            </span>\n",
    "                <span style=\"font-size: 13px; color: #696;      \">(@LatDeg, @LonDeg)   </span> <br>\n",
    "                <span style=\"font-size: 9px;                    \">@pic_pretext @pic_cite @glpic_lic </span>\n",
    "        </div>\n",
    "    </div>\n",
    "            \"\"\".format(trads['tooltip_length'][language], trads['tooltip_loc'][language])\n",
    "hover = HoverTool(tooltips=TOOLTIPS)\n",
    "\n",
    "# glacier points, include all needed data (everything from hover info to text description) in vdims\n",
    "glacier_points = gv.Points(df,\n",
    "                           kdims=['CenLon', 'CenLat'],\n",
    "                           vdims=['type', 'name', 'Lmax', 'TerminusType', 'pic_pretext', 'pic_cite',\n",
    "                                  'glpic_lic', 'img', 'pic_height', 'pic_width', 'LatDeg', 'LonDeg',\n",
    "                                  'glaciertype_text', 'glaciertype_source', 'no_glacier_selected']\n",
    "                          ).opts(default_tools=['tap', 'wheel_zoom', 'reset', 'pan', hover],\n",
    "                                 size=10,\n",
    "                                 line_color='black',\n",
    "                                 fill_alpha=0.9,\n",
    "                                 fill_color='type',\n",
    "                                 cmap=glacier_type_colors,\n",
    "                                 xaxis=None,\n",
    "                                 yaxis=None\n",
    "                                )\n",
    "\n",
    "# put together the total figure\n",
    "total_map = (glacier_points * background_map).opts(width=1000, height=650)\n",
    "\n",
    "# text which is changed depending on selected point\n",
    "type_text = hv.Div(df['no_glacier_selected'].values[0]\n",
    "                  ).opts(sizing_mode='stretch_width',\n",
    "                         height=10)\n",
    "\n",
    "glaciertype_text = hv.Div(''\n",
    "                         ).opts(sizing_mode='stretch_both')\n",
    "\n",
    "glaciertype_source_text = hv.Div(''\n",
    "                                ).opts(sizing_mode='stretch_both')\n",
    "\n",
    "\n",
    "# defining the links between the plot and the text\n",
    "# currently the text consists of three parts with three links\n",
    "# because html formatting is not working, if this is fixed\n",
    "# we can reduce it to one text object with one link\n",
    "# (see https://github.com/holoviz/holoviews/issues/5590)\n",
    "class TypeTextLink(Link):\n",
    "    _requires_target = True\n",
    "\n",
    "class TypeTextCallback(LinkCallback):\n",
    "\n",
    "    source_model = 'selected'\n",
    "    source_handles = ['cds']\n",
    "    on_source_changes = ['indices']\n",
    "\n",
    "    target_model = 'plot'\n",
    "    \n",
    "    source_code = \"\"\"\n",
    "        var inds = source_selected.indices\n",
    "\n",
    "        if (inds.length == 0) {\n",
    "            target_plot.text = source_cds.data['no_glacier_selected'][0]\n",
    "        } else {\n",
    "            target_plot.text = source_cds.data['type'][inds[0]]\n",
    "        }\n",
    "    \"\"\"\n",
    "\n",
    "TypeTextLink.register_callback('bokeh', TypeTextCallback)\n",
    "TypeTextLink(glacier_points, type_text)\n",
    "\n",
    "class GlaciertypeTextLink(Link):\n",
    "    _requires_target = True\n",
    "\n",
    "class GlaciertypeTextCallback(LinkCallback):\n",
    "\n",
    "    source_model = 'selected'\n",
    "    source_handles = ['cds']\n",
    "    on_source_changes = ['indices']\n",
    "\n",
    "    target_model = 'plot'\n",
    "    \n",
    "    source_code = \"\"\"\n",
    "        var inds = source_selected.indices\n",
    "\n",
    "        if (inds.length == 0) {\n",
    "            target_plot.text = ' '\n",
    "        } else {\n",
    "            target_plot.text = source_cds.data['glaciertype_text'][inds[0]]\n",
    "        }\n",
    "    \"\"\"\n",
    "\n",
    "GlaciertypeTextLink.register_callback('bokeh', GlaciertypeTextCallback)\n",
    "GlaciertypeTextLink(glacier_points, glaciertype_text)\n",
    "\n",
    "class GlaciertypeSourceTextLink(Link):\n",
    "    _requires_target = True\n",
    "\n",
    "class GlaciertypeSourceTextCallback(LinkCallback):\n",
    "\n",
    "    source_model = 'selected'\n",
    "    source_handles = ['cds']\n",
    "    on_source_changes = ['indices']\n",
    "\n",
    "    target_model = 'plot'\n",
    "    \n",
    "    source_code = \"\"\"\n",
    "        var inds = source_selected.indices\n",
    "\n",
    "        if (inds.length == 0) {\n",
    "            target_plot.text = ' '\n",
    "        } else {\n",
    "            target_plot.text = source_cds.data['glaciertype_source'][inds[0]]\n",
    "        }\n",
    "    \"\"\"\n",
    "\n",
    "GlaciertypeSourceTextLink.register_callback('bokeh', GlaciertypeSourceTextCallback)\n",
    "GlaciertypeSourceTextLink(glacier_points, glaciertype_source_text)\n",
    "\n",
    "# text which stays the same\n",
    "constant_text = hv.Div(f'<h2>{glacier_points.data.Title.iloc[0]}</h2>'\n",
    "                       f'{glacier_points.data.Def.iloc[0]}<br><br>'\n",
    "                       f'<i>{glacier_points.data.text_source.iloc[0]}</i>'\n",
    "                      ).opts(sizing_mode='stretch_both')\n",
    "\n",
    "# put together tab with texts\n",
    "tabs = pn.Tabs((tab_title1,\n",
    "                pn.Column(type_text,\n",
    "                          pn.Spacer(height=10),\n",
    "                          glaciertype_text,\n",
    "                          pn.Spacer(height=10),\n",
    "                          glaciertype_source_text,\n",
    "                          sizing_mode='stretch_both')\n",
    "               ),\n",
    "               (tab_title2, constant_text),\n",
    "               width=330)"
   ]
  },
  {
   "cell_type": "markdown",
   "metadata": {},
   "source": [
    "#### Logos"
   ]
  },
  {
   "cell_type": "code",
   "execution_count": null,
   "metadata": {},
   "outputs": [],
   "source": [
    "oggm_logo   = '<a href=\"http://edu.oggm.org\"><img src=\"https://raw.githubusercontent.com/zschirmeister/glacier-gallery/master/oggm_loupe.png\" width=220></a>'\n",
    "hv_logo = '<p style=\"margin-top: 0px;margin-bottom: 0px;\"><a href=\"https://holoviz.org\"><img src=\"https://holoviz.org/assets/holoviz-logo-stacked.svg\" width=80></a></p>'\n",
    "fk_logo     = '<a href=\"https://www.uibk.ac.at/foerderkreis1669/\"><img src=\"https://raw.githubusercontent.com/zschirmeister/glacier-gallery/master/uibk_logo_narrow.png\" width=140></a>'"
   ]
  },
  {
   "cell_type": "markdown",
   "metadata": {},
   "source": [
    "## Design application"
   ]
  },
  {
   "cell_type": "code",
   "execution_count": null,
   "metadata": {},
   "outputs": [],
   "source": [
    "# Panel\n",
    "header = pn.Row(pn.Pane(oggm_logo),  pn.layout.Spacer(width=30), \n",
    "                pn.Column(pn.Row(pn.Spacer(width=130),\n",
    "                                 pn.Pane(title,\n",
    "                                         width=400)),\n",
    "                          pn.Row(pn.Spacer(width=80),\n",
    "                                 pn.Pane(instruction,\n",
    "                                         width=1200))),\n",
    "                pn.layout.HSpacer(),\n",
    "                sizing_mode='stretch_width'\n",
    "                )\n",
    "logos = pn.Column(pn.Spacer(height=30),\n",
    "                  pn.Pane(hv_logo,\n",
    "                          width=100),\n",
    "                  pn.Spacer(height=40),\n",
    "                  pn.Pane(fk_logo))\n",
    "links = pn.Column(link_to_license_intro,\n",
    "                  links_to_license,\n",
    "                  links_pic_src_intro,\n",
    "                  links_pic_src,\n",
    "                  sizing_mode='stretch_width')\n",
    "\n",
    "# Put plot and text together and show it\n",
    "app = pn.Column(header,\n",
    "                pn.Row(logos,\n",
    "                       pn.Column(pn.Spacer(height=22),\n",
    "                                 total_map),\n",
    "                       pn.Spacer(width=2),\n",
    "                       tabs,\n",
    "                       sizing_mode='stretch_width'),\n",
    "                pn.Spacer(height=60),\n",
    "                links,\n",
    "                sizing_mode='stretch_width')\n",
    "#app.show()"
   ]
  },
  {
   "cell_type": "code",
   "execution_count": null,
   "metadata": {},
   "outputs": [],
   "source": [
    "# save as a stand-alone HTML\n",
    "app.save(file_name, 'Glacier Gallery')"
   ]
  }
 ],
 "metadata": {
  "kernelspec": {
   "display_name": "Python 3 (ipykernel)",
   "language": "python",
   "name": "python3"
  },
  "language_info": {
   "codemirror_mode": {
    "name": "ipython",
    "version": 3
   },
   "file_extension": ".py",
   "mimetype": "text/x-python",
   "name": "python",
   "nbconvert_exporter": "python",
   "pygments_lexer": "ipython3",
   "version": "3.8.15"
  },
  "toc": {
   "base_numbering": 1,
   "nav_menu": {},
   "number_sections": true,
   "sideBar": true,
   "skip_h1_title": false,
   "title_cell": "Table of Contents",
   "title_sidebar": "Contents",
   "toc_cell": false,
   "toc_position": {},
   "toc_section_display": true,
   "toc_window_display": false
  }
 },
 "nbformat": 4,
 "nbformat_minor": 4
}
