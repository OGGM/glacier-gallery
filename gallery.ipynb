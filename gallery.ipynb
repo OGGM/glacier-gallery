{
 "cells": [
  {
   "cell_type": "markdown",
   "metadata": {},
   "source": [
    "# Glacier Gallery"
   ]
  },
  {
   "cell_type": "markdown",
   "metadata": {},
   "source": [
    "## Import packages"
   ]
  },
  {
   "cell_type": "code",
   "execution_count": null,
   "metadata": {},
   "outputs": [],
   "source": [
    "import panel as pn\n",
    "import pandas as pd\n",
    "import holoviews as hv\n",
    "import geoviews as gv\n",
    "from holoviews.plotting.links import Link\n",
    "from holoviews.plotting.bokeh import LinkCallback\n",
    "import geoviews.tile_sources as gts\n",
    "from bokeh.models import HoverTool\n",
    "\n",
    "hv.extension('bokeh', width=100)\n",
    "pn.extension()\n",
    "gv.extension('bokeh')"
   ]
  },
  {
   "cell_type": "markdown",
   "metadata": {},
   "source": [
    "## Choose language for html document!"
   ]
  },
  {
   "cell_type": "code",
   "execution_count": null,
   "metadata": {},
   "outputs": [],
   "source": [
    "language = 'en'  # 'en' or 'de'\n",
    "file_name = f'gallery-app_{language}.html'"
   ]
  },
  {
   "cell_type": "markdown",
   "metadata": {},
   "source": [
    "### Import text in different languages and selection of glacier with meta data"
   ]
  },
  {
   "cell_type": "code",
   "execution_count": null,
   "metadata": {},
   "outputs": [],
   "source": [
    "# import all texts in the corresponding language from here:\n",
    "from international import trads, supported_languages\n",
    "from glacier_data import glaciers, links"
   ]
  },
  {
   "cell_type": "markdown",
   "metadata": {},
   "source": [
    "### Function to prepare coordinates"
   ]
  },
  {
   "cell_type": "code",
   "execution_count": null,
   "metadata": {},
   "outputs": [],
   "source": [
    "import math\n",
    "from ast import literal_eval\n",
    "\n",
    "def merc(Coords):\n",
    "    lat = Coords[0]\n",
    "    lon = Coords[1]\n",
    "\n",
    "    r_major = 6378137.000\n",
    "    x = r_major * math.radians(lon)\n",
    "    scale = x/lon\n",
    "    y = 180.0/math.pi * math.log(math.tan(math.pi/4.0 + \n",
    "        lat * (math.pi/180.0)/2.0)) * scale    \n",
    "    return (x, y)"
   ]
  },
  {
   "cell_type": "markdown",
   "metadata": {},
   "source": [
    "## Load data"
   ]
  },
  {
   "cell_type": "code",
   "execution_count": null,
   "metadata": {
    "scrolled": true
   },
   "outputs": [],
   "source": [
    "df_all = pd.read_hdf('./data/rgi62_era5_itmix_df.h5', 'df')\n",
    "df_all['rgi_id']= list(df_all.axes[0])\n",
    "df_sel = df_all[['rgi_id', 'CenLon', 'CenLat', 'Lmax', 'GlacierType',\n",
    "                 'TerminusType', 'GlacierStatus', 'IsTidewater',\n",
    "                 'IsNominal' ]].copy()"
   ]
  },
  {
   "cell_type": "markdown",
   "metadata": {},
   "source": [
    "## Select glaciers, add photos and build lists with information about them"
   ]
  },
  {
   "cell_type": "code",
   "execution_count": null,
   "metadata": {
    "scrolled": false
   },
   "outputs": [],
   "source": [
    "Glacier_No = glaciers # imported glaciers and meta data from Glaciers.py\n",
    "\n",
    "# Create lists from glacier list above\n",
    "glacier_list = []\n",
    "glacier_names = []\n",
    "gltype = []\n",
    "glacier_pics =[]\n",
    "glpic_pretext_source = []\n",
    "glpic_cite = []\n",
    "glpic_lic = []\n",
    "glpic_wi = []\n",
    "glpic_he = []\n",
    "glpic_src = []\n",
    "for gl_no in Glacier_No:\n",
    "    glacier_list.append(gl_no[0])\n",
    "    glacier_names.append(gl_no[1])\n",
    "    gltype.append(gl_no[2])\n",
    "    glacier_pics.append(gl_no[3])\n",
    "    glpic_pretext_source.append(gl_no[4])\n",
    "    glpic_cite.append(gl_no[5])\n",
    "    glpic_lic.append (gl_no[6])\n",
    "    glpic_wi.append(gl_no[8])\n",
    "    glpic_he.append(gl_no[9])\n",
    "    glpic_src.append(gl_no[10])\n",
    "\n",
    "# create a new dataframe with the selected glaciers from the loaded data about glaciers \n",
    "df = df_sel.loc[df_sel['rgi_id'].isin(glacier_list)].copy()\n",
    "df['name'] = glacier_names\n",
    "df['Coords'] = list(zip(round(df.CenLat,2), round(df.CenLon,2)))\n",
    "df['type'] = gltype\n",
    "df['img'] = glacier_pics\n",
    "df['pic_pretext'] = glpic_pretext_source\n",
    "df['glpic_lic'] = glpic_lic\n",
    "df['pic_cite'] = glpic_cite\n",
    "df['pic_width'] = glpic_wi\n",
    "df['pic_height'] = glpic_he\n",
    "df['pic_src'] = glpic_src"
   ]
  },
  {
   "cell_type": "markdown",
   "metadata": {},
   "source": [
    "## Define texts in according language"
   ]
  },
  {
   "cell_type": "code",
   "execution_count": null,
   "metadata": {
    "scrolled": true
   },
   "outputs": [],
   "source": [
    "title                 = '<div style=\"font-size:38px; color: #326a86; font-weight: bold;\" >{}</div>'.format(trads['Title_hp'][language])\n",
    "instruction           = '<div style=\"font-size:15px; color: #326a86; text-align: center;\" >{}</div>'.format(trads['instruction'][language])\n",
    "link_to_license_intro = '<div>{}</div>'.format(trads['link_to_license_intro'][language])\n",
    "links_pic_src_intro   = '<div>{}</div>'.format(trads['links_pic_src_intro'][language])\n",
    "\n",
    "links_to_license = links['links_license']\n",
    "links_pic_src    = links['links_pics']\n",
    "\n",
    "# translate \"terminating\" entry:\n",
    "df.loc[df['TerminusType'] == 'Land-terminating', 'TerminusType']   = trads['TerminusType_land'][language]\n",
    "df.loc[df['TerminusType'] == 'Marine-terminating', 'TerminusType'] = trads['TerminusType_marine'][language]\n",
    "\n",
    "# translate \"type\" entry:\n",
    "df.loc[df['type'] == 'Pure ice glacier', 'type']       = trads['type_pure_ice'][language]\n",
    "df.loc[df['type'] == 'Calving glacier', 'type']        = trads['type_calving'][language]\n",
    "df.loc[df['type'] == 'Debris covered glacier', 'type'] = trads['type_debris'][language]\n",
    "df.loc[df['type'] == 'Ice cap', 'type']                = trads['type_ice_cap'][language]\n",
    "\n",
    "# translate \"pic_pretext\":\n",
    "df.loc[df['pic_pretext'] == 'Photo courtesy', 'pic_pretext'] = trads['pic_pretext'][language]\n",
    "\n",
    "# define colors for dots of different glacier types\n",
    "glacier_type_colors = {trads['type_pure_ice'][language]: '#56B4E9',\n",
    "                       trads['type_calving'][language]: '#F0E442',\n",
    "                       trads['type_debris'][language]: '#009E73',\n",
    "                       trads['type_ice_cap'][language]: '#D55E00'}"
   ]
  },
  {
   "cell_type": "markdown",
   "metadata": {},
   "source": [
    "## Build special datastructure with all information"
   ]
  },
  {
   "cell_type": "code",
   "execution_count": null,
   "metadata": {},
   "outputs": [],
   "source": [
    "# prepare coordinates  \n",
    "df.loc[:, 'coords_x'] = df['Coords'].apply(lambda x: merc(x)[0])\n",
    "df.loc[:, 'coords_y'] = df['Coords'].apply(lambda x: merc(x)[1])\n",
    "\n",
    "df.loc[:, 'LonDeg'] = df['CenLon']\n",
    "df.loc[:, 'LatDeg'] = df['CenLat']"
   ]
  },
  {
   "cell_type": "markdown",
   "metadata": {},
   "source": [
    "## Design for map with hover and webpage"
   ]
  },
  {
   "cell_type": "code",
   "execution_count": null,
   "metadata": {},
   "outputs": [],
   "source": [
    "# background map\n",
    "background_map = gts.tile_sources['CartoLight']\n",
    "\n",
    "# define hover with image and values to display\n",
    "TOOLTIPS =  \"\"\"\n",
    "    <div>\n",
    "        <div>\n",
    "            <img\n",
    "                src=\"@img\" \n",
    "                height=\"@pic_height\" \n",
    "                alt=\"image loading...\" \n",
    "                width=\"@pic_width\"\n",
    "                style=\" margin: 2px 2px 0px 2px;\"\n",
    "                border=\"2\">\n",
    "            </img>\n",
    "        </div>\n",
    "        <div>\n",
    "                <span style=\"font-size: 17px; font-weight: bold;\">@name                </span> <br>\n",
    "                <span style=\"font-size: 15px;                   \">@type                </span> <br>\n",
    "                <span style=\"font-size: 15px;                   \">{}:              </span>\n",
    "                <span style=\"font-size: 15px;                   \">@Lmax                </span>\n",
    "                <span style=\"font-size: 15px;                   \">m                    </span> <br>\n",
    "                <span style=\"font-size: 15px;                   \">@TerminusType        </span> <br>\n",
    "                <span style=\"font-size: 15px;                   \">{}:            </span>\n",
    "                <span style=\"font-size: 13px; color: #696;      \">(@LatDeg, @LonDeg)   </span> <br>\n",
    "                <span style=\"font-size: 9px;                    \">@pic_pretext @pic_cite @glpic_lic </span>\n",
    "        </div>\n",
    "    </div>\n",
    "            \"\"\".format(trads['tooltip_length'][language], trads['tooltip_loc'][language])\n",
    "hover = HoverTool(tooltips=TOOLTIPS)\n",
    "\n",
    "# glacier points, include all needed data (everything from hover info to text description) in vdims\n",
    "glacier_points = gv.Points(df,\n",
    "                           kdims=['CenLon', 'CenLat'],\n",
    "                           vdims=['type', 'name', 'Lmax', 'TerminusType', 'pic_pretext', 'pic_cite',\n",
    "                                  'glpic_lic', 'img', 'pic_height', 'pic_width', 'LatDeg', 'LonDeg']\n",
    "                          ).opts(default_tools=['tap', 'wheel_zoom', 'reset', 'pan', hover],\n",
    "                                 size=10,\n",
    "                                 line_color='black',\n",
    "                                 fill_alpha=0.9,\n",
    "                                 fill_color='type',\n",
    "                                 cmap=glacier_type_colors,\n",
    "                                 xaxis=None,\n",
    "                                 yaxis=None,\n",
    "                                )\n",
    "\n",
    "# put together the total figure\n",
    "total_map = (glacier_points * background_map).opts(width=1000,\n",
    "                                                   height=650,\n",
    "                                                   legend_opts={'click_policy': 'none'},\n",
    "                                                  )\n",
    "\n",
    "# texts for different tabs\n",
    "glacier_definition_text = hv.Div(f\"<h2>{trads['Glacier_title'][language]}</h2>\"\n",
    "                                 f\"{trads['Glacier_definition'][language]}<br><br>\"\n",
    "                                 f\"<i>{trads['Glacier_text_source'][language]}</i>\"\n",
    "                                ).opts(sizing_mode='stretch_both')\n",
    "\n",
    "pure_ice_text = hv.Div(f\"<h2>{trads['type_pure_ice'][language]}</h2>\"\n",
    "                       f\"{trads['pure_ice_text'][language]}<br><br>\"\n",
    "                       f\"<i>{trads['pure_ice_source'][language]}</i>\"\n",
    "                      ).opts(sizing_mode='stretch_both')\n",
    "\n",
    "calving_text = hv.Div(f\"<h2>{trads['type_calving'][language]}</h2>\"\n",
    "                      f\"{trads['calving_text'][language]}<br><br>\"\n",
    "                      f\"<i>{trads['calving_source'][language]}</i>\"\n",
    "                     ).opts(sizing_mode='stretch_both')\n",
    "\n",
    "debris_text = hv.Div(f\"<h2>{trads['type_debris'][language]}</h2>\"\n",
    "                     f\"{trads['debris_text'][language]}<br><br>\"\n",
    "                     f\"<i>{trads['debris_source'][language]}</i>\"\n",
    "                    ).opts(sizing_mode='stretch_both')\n",
    "\n",
    "ice_cap_text = hv.Div(f\"<h2>{trads['type_ice_cap'][language]}</h2>\"\n",
    "                      f\"{trads['ice_cap_text'][language]}<br><br>\"\n",
    "                      f\"<i>{trads['ice_cap_source'][language]}</i>\"\n",
    "                     ).opts(sizing_mode='stretch_both')\n",
    "\n",
    "# put together tab with texts\n",
    "tabs = pn.Tabs((trads['tab_title_glacier_definition'][language],\n",
    "                glacier_definition_text),\n",
    "               (trads['tab_title_pure_ice'][language],\n",
    "                pure_ice_text),\n",
    "               (trads['tab_title_calving'][language],\n",
    "                calving_text),\n",
    "               (trads['tab_title_debris'][language],\n",
    "                debris_text),\n",
    "               (trads['tab_title_ice_cap'][language],\n",
    "                ice_cap_text),\n",
    "               width=400)\n",
    "\n",
    "\n",
    "# this Div's is a hacky workaround to link the hv selection to a pn object\n",
    "linking_div_hv = hv.Div(' ')\n",
    "linking_div_pn = pn.panel(linking_div_hv, visible=False)\n",
    "\n",
    "# first we link the plot to hv Div\n",
    "class TextLinkhv(Link):\n",
    "    _requires_target = True\n",
    "\n",
    "class TextCallbackhv(LinkCallback):\n",
    "    \n",
    "    source_model = 'selected'\n",
    "    source_handles = ['cds']\n",
    "    on_source_changes = ['indices']\n",
    "\n",
    "    target_model = 'plot'\n",
    "    \n",
    "    source_code = \"\"\"\n",
    "        var inds = source_selected.indices\n",
    "\n",
    "        if (inds.length == 0) {\n",
    "            target_plot.text = ' '\n",
    "        } else {\n",
    "            target_plot.text = source_cds.data['type'][inds[0]]\n",
    "        }\n",
    "    \"\"\"\n",
    "\n",
    "TextLinkhv.register_callback('bokeh', TextCallbackhv)\n",
    "TextLinkhv(glacier_points, linking_div_hv)\n",
    "\n",
    "# Now we link the pn Div to the tabs\n",
    "code_pn_link = f\"\"\"\n",
    "    if (source.text == ' ')\n",
    "        target.active = 0\n",
    "    if (source.text == '{trads['type_pure_ice'][language]}')\n",
    "        target.active = 1\n",
    "    if (source.text == '{trads['type_calving'][language]}')\n",
    "        target.active = 2\n",
    "    if (source.text == '{trads['type_debris'][language]}')\n",
    "        target.active = 3\n",
    "    if (source.text == '{trads['type_ice_cap'][language]}')\n",
    "        target.active = 4\n",
    "\"\"\"\n",
    "\n",
    "linking_div_pn.jslink(tabs, code={'text': code_pn_link});"
   ]
  },
  {
   "cell_type": "markdown",
   "metadata": {},
   "source": [
    "## Logos"
   ]
  },
  {
   "cell_type": "code",
   "execution_count": null,
   "metadata": {},
   "outputs": [],
   "source": [
    "oggm_logo = ('<p style=\"margin-top: 0px;margin-bottom: 0px;\"><a href=\"http://edu.oggm.org\">'\n",
    "             '<img src=\"https://raw.githubusercontent.com/zschirmeister/glacier-gallery/master/oggm_loupe.png\" width=220>'\n",
    "             '</a></p>')\n",
    "hv_logo = ('<p style=\"margin-top: 0px;margin-bottom: 0px;\"><a href=\"https://holoviz.org\">'\n",
    "           '<img src=\"https://holoviz.org/assets/holoviz-logo-stacked.svg\" width=80>'\n",
    "           '</a></p>')\n",
    "fk_logo = ('<p style=\"margin-top: 0px;margin-bottom: 0px;\"><a href=\"https://www.uibk.ac.at/foerderkreis1669/\">'\n",
    "           '<img src=\"https://raw.githubusercontent.com/zschirmeister/glacier-gallery/master/uibk_logo_narrow.png\" width=140>'\n",
    "           '</a></p>')"
   ]
  },
  {
   "cell_type": "markdown",
   "metadata": {},
   "source": [
    "## Design application"
   ]
  },
  {
   "cell_type": "code",
   "execution_count": null,
   "metadata": {},
   "outputs": [],
   "source": [
    "# Panel\n",
    "# build header\n",
    "header_height = 98\n",
    "oggm_logo_pn = pn.Column(pn.Spacer(sizing_mode='stretch_height',\n",
    "                                   margin=(0,0)),\n",
    "                         pn.panel(oggm_logo,\n",
    "                                  margin=(0, 0),\n",
    "                                  height=70),\n",
    "                        pn.Spacer(sizing_mode='stretch_height',\n",
    "                                   margin=(0,0)),\n",
    "                        height=header_height)\n",
    "\n",
    "title_instruction_pn = pn.Column(\n",
    "    pn.Row(pn.Spacer(sizing_mode='stretch_width', margin=(0, 0)),\n",
    "           pn.panel(title, margin=(0, 0),\n",
    "                   ),\n",
    "           pn.Spacer(sizing_mode='stretch_width', margin=(0, 0)),\n",
    "           sizing_mode='stretch_width'),\n",
    "    pn.Row(pn.Spacer(sizing_mode='stretch_width', margin=(0, 0)),\n",
    "           pn.panel(instruction, margin=(0, 0),\n",
    "                    width=800,),\n",
    "           pn.Spacer(sizing_mode='stretch_width', margin=(0, 0)),\n",
    "           margin=(0, 0),\n",
    "           sizing_mode='stretch_width'),\n",
    "    margin=(0, 0),\n",
    "    sizing_mode='stretch_width')\n",
    "\n",
    "logos_pn = pn.Column(\n",
    "    pn.Spacer(sizing_mode='stretch_height',\n",
    "                                   margin=(0,0)),\n",
    "    pn.Row(pn.Pane(fk_logo,\n",
    "                   align='center',\n",
    "                   height=85,\n",
    "                   margin=(0, 0)),\n",
    "           pn.Spacer(width=50, margin=(0, 0)),\n",
    "           pn.Pane(hv_logo,\n",
    "                   align='center',\n",
    "                   height=85,\n",
    "                   margin=(0, 0))\n",
    "          ),\n",
    "    pn.Spacer(sizing_mode='stretch_height',\n",
    "                                   margin=(0,0)))\n",
    "header = pn.Row(oggm_logo_pn, \n",
    "                pn.Spacer(width=10,\n",
    "                          height=10,\n",
    "                          margin=(0, 0)), \n",
    "                title_instruction_pn,\n",
    "                pn.Spacer(width=10,\n",
    "                          height=10,\n",
    "                          margin=(0, 0)),\n",
    "                logos_pn,\n",
    "                pn.Spacer(width=30,\n",
    "                          height=10,\n",
    "                          margin=(0, 0)),\n",
    "                margin=(0, 0),\n",
    "                sizing_mode='stretch_width'\n",
    "                )\n",
    "\n",
    "links = pn.Row(pn.Column(links_pic_src_intro,\n",
    "                         links_pic_src,),\n",
    "               pn.Spacer(width=10),\n",
    "               pn.Column(link_to_license_intro,\n",
    "                         links_to_license,),\n",
    "              )\n",
    "\n",
    "# Put plot and text together and show it\n",
    "app = pn.Column(header,\n",
    "                pn.Spacer(height=2),\n",
    "                pn.Row(total_map,\n",
    "                       pn.Spacer(width=2),\n",
    "                       tabs,\n",
    "                       sizing_mode='stretch_both'),\n",
    "                pn.Spacer(height=10),\n",
    "                links,\n",
    "                linking_div_pn,\n",
    "                margin=(0, 0),\n",
    "                sizing_mode='stretch_both')\n",
    "\n",
    "#app.show()"
   ]
  },
  {
   "cell_type": "code",
   "execution_count": null,
   "metadata": {},
   "outputs": [],
   "source": [
    "# save as a stand-alone HTML\n",
    "app.save(file_name, 'Glacier Gallery')"
   ]
  }
 ],
 "metadata": {
  "kernelspec": {
   "display_name": "Python 3 (ipykernel)",
   "language": "python",
   "name": "python3"
  },
  "language_info": {
   "codemirror_mode": {
    "name": "ipython",
    "version": 3
   },
   "file_extension": ".py",
   "mimetype": "text/x-python",
   "name": "python",
   "nbconvert_exporter": "python",
   "pygments_lexer": "ipython3",
   "version": "3.8.15"
  },
  "toc": {
   "base_numbering": 1,
   "nav_menu": {},
   "number_sections": true,
   "sideBar": true,
   "skip_h1_title": false,
   "title_cell": "Table of Contents",
   "title_sidebar": "Contents",
   "toc_cell": false,
   "toc_position": {},
   "toc_section_display": true,
   "toc_window_display": false
  }
 },
 "nbformat": 4,
 "nbformat_minor": 4
}
